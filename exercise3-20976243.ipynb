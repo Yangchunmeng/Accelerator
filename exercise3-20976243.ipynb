{
  "cells": [
    {
      "cell_type": "code",
      "execution_count": 1,
      "metadata": {
        "id": "EC9tY7c705G8",
        "outputId": "05d6badb-63ec-49b4-8e04-ceb480ebefd7",
        "colab": {
          "base_uri": "https://localhost:8080/"
        }
      },
      "outputs": [
        {
          "output_type": "stream",
          "name": "stdout",
          "text": [
            "Enter HKD: 9999999\n",
            "Currency: 9999999 Hong Kong Dollars = 9160429.08 Chinese Yuan Renminbi\n"
          ]
        }
      ],
      "source": [
        "# Name: YANG Steven Chunmeng, Student No. 20976243\n",
        "# Exercise 3: Convert HKD to CNY and generate the formatted output.\n",
        "HKD = int(input(\"Enter HKD: \"))\n",
        "CNY = round(0.916043*HKD,2)\n",
        "print(f\"Currency: {HKD} Hong Kong Dollars = {CNY} Chinese Yuan Renminbi\")"
      ]
    }
  ],
  "metadata": {
    "kernelspec": {
      "display_name": ".venv",
      "language": "python",
      "name": "python3"
    },
    "language_info": {
      "codemirror_mode": {
        "name": "ipython",
        "version": 3
      },
      "file_extension": ".py",
      "mimetype": "text/x-python",
      "name": "python",
      "nbconvert_exporter": "python",
      "pygments_lexer": "ipython3",
      "version": "3.11.4"
    },
    "orig_nbformat": 4,
    "colab": {
      "provenance": []
    }
  },
  "nbformat": 4,
  "nbformat_minor": 0
}