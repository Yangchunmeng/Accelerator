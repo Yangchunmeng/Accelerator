{
 "cells": [
  {
   "cell_type": "code",
   "execution_count": 3,
   "metadata": {},
   "outputs": [
    {
     "name": "stdout",
     "output_type": "stream",
     "text": [
      "Currency: 9999999 Hong Kong Dollars = 9160429.08 Chinese Yuan Renminbi\n"
     ]
    }
   ],
   "source": [
    "# Name: YANG Steven Chunmeng, Student No. 20976243\n",
    "# Exercise 3: Convert HKD to CNY and generate the formatted output.\n",
    "HKD = int(input(\"Enter HKD:\"))\n",
    "CNY = round(0.916043*HKD,2)\n",
    "print(f\"Currency: {HKD} Hong Kong Dollars = {CNY} Chinese Yuan Renminbi\")"
   ]
  }
 ],
 "metadata": {
  "kernelspec": {
   "display_name": ".venv",
   "language": "python",
   "name": "python3"
  },
  "language_info": {
   "codemirror_mode": {
    "name": "ipython",
    "version": 3
   },
   "file_extension": ".py",
   "mimetype": "text/x-python",
   "name": "python",
   "nbconvert_exporter": "python",
   "pygments_lexer": "ipython3",
   "version": "3.11.4"
  },
  "orig_nbformat": 4
 },
 "nbformat": 4,
 "nbformat_minor": 2
}
