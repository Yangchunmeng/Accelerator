{
  "cells": [
    {
      "cell_type": "code",
      "execution_count": 4,
      "metadata": {
        "id": "k9zuCawX2iBE",
        "outputId": "381ae1b5-f642-4102-cfeb-ebf172607af7",
        "colab": {
          "base_uri": "https://localhost:8080/"
        }
      },
      "outputs": [
        {
          "output_type": "stream",
          "name": "stdout",
          "text": [
            "Requirement already satisfied: forex_python in /usr/local/lib/python3.10/dist-packages (1.8)\n",
            "Requirement already satisfied: requests in /usr/local/lib/python3.10/dist-packages (from forex_python) (2.31.0)\n",
            "Requirement already satisfied: simplejson in /usr/local/lib/python3.10/dist-packages (from forex_python) (3.19.1)\n",
            "Requirement already satisfied: charset-normalizer<4,>=2 in /usr/local/lib/python3.10/dist-packages (from requests->forex_python) (3.2.0)\n",
            "Requirement already satisfied: idna<4,>=2.5 in /usr/local/lib/python3.10/dist-packages (from requests->forex_python) (3.4)\n",
            "Requirement already satisfied: urllib3<3,>=1.21.1 in /usr/local/lib/python3.10/dist-packages (from requests->forex_python) (2.0.4)\n",
            "Requirement already satisfied: certifi>=2017.4.17 in /usr/local/lib/python3.10/dist-packages (from requests->forex_python) (2023.7.22)\n",
            "1: HKD to CNY\n",
            "2: HKD to USD\n",
            "3: Exit\n",
            "\n",
            "Enter your option:1\n",
            "Your Option is: 1. HKD to CNY\n",
            "Enter HK$:100000\n",
            "Exchange rate: 0.9214607186997179\n",
            "Result: HK$ 100,000.000 = CNY$ 92,146.072\n",
            "\n",
            "1: HKD to CNY\n",
            "2: HKD to USD\n",
            "3: Exit\n",
            "\n",
            "Enter your option:2\n",
            "Your Option is: 2. HKD to USD\n",
            "Enter HK$:100000\n",
            "Exchange rate: 0.12788284401744282\n",
            "Result: HK$ 100,000.000 = US$ 12,788.284\n",
            "\n",
            "1: HKD to CNY\n",
            "2: HKD to USD\n",
            "3: Exit\n",
            "\n",
            "Enter your option:3\n",
            "Your Option is: 3. Exit\n",
            "End of the program.\n",
            "\n"
          ]
        }
      ],
      "source": [
        "# Name: YANG Steven Chunmeng, Student No. 20976243\n",
        "# Exercise 5:\n",
        "# - Find a Python package to retrive real-time currency exchange rates\n",
        "# - Examine the selected package(s)\n",
        "# - Apply the selected packages for the implementation\n",
        "# Solution: adopt \"forex_python\" python package\n",
        "\n",
        "#import\n",
        "!pip install forex_python\n",
        "from forex_python.converter import CurrencyRates\n",
        "\n",
        "#main part\n",
        "c = CurrencyRates()\n",
        "hkd_to_cny = c.get_rate('HKD','CNY') #Exchange Rate of HKD to CNY\n",
        "hkd_to_usd = c.get_rate('HKD','USD') #Exchange Rate of HKD to USD\n",
        "\n",
        "while True:\n",
        "    print(\"1: HKD to CNY\")\n",
        "    print(\"2: HKD to USD\")\n",
        "    print(\"3: Exit\\n\")\n",
        "    choice = int(input(\"Enter your option:\"))\n",
        "    if choice == 1:\n",
        "        print(\"Your Option is: 1. HKD to CNY\")\n",
        "        HKD = float(input(\"Enter HK$:\"))\n",
        "        CNY = hkd_to_cny*HKD\n",
        "        print(f\"Exchange rate: {hkd_to_cny}\")\n",
        "        print(f\"Result: HK$ {HKD:,.3f} = CNY$ {CNY:,.3f}\\n\")\n",
        "    elif choice == 2:\n",
        "        print(\"Your Option is: 2. HKD to USD\")\n",
        "        HKD = float(input(\"Enter HK$:\"))\n",
        "        USD = hkd_to_usd*HKD\n",
        "        print(f\"Exchange rate: {hkd_to_usd}\")\n",
        "        print(f\"Result: HK$ {HKD:,.3f} = US$ {USD:,.3f}\\n\")\n",
        "    elif choice == 3:\n",
        "        print(\"Your Option is: 3. Exit\")\n",
        "        print(\"End of the program.\\n\")\n",
        "        break\n",
        "    else:\n",
        "        print(\"Other choice\\n\")"
      ]
    }
  ],
  "metadata": {
    "kernelspec": {
      "display_name": ".venv",
      "language": "python",
      "name": "python3"
    },
    "language_info": {
      "codemirror_mode": {
        "name": "ipython",
        "version": 3
      },
      "file_extension": ".py",
      "mimetype": "text/x-python",
      "name": "python",
      "nbconvert_exporter": "python",
      "pygments_lexer": "ipython3",
      "version": "3.11.4"
    },
    "orig_nbformat": 4,
    "colab": {
      "provenance": []
    }
  },
  "nbformat": 4,
  "nbformat_minor": 0
}