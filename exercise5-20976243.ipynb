{
  "cells": [
    {
      "cell_type": "code",
      "execution_count": 1,
      "metadata": {
        "id": "k9zuCawX2iBE",
        "outputId": "1a240310-7492-41f3-ad37-c568ae5039c6",
        "colab": {
          "base_uri": "https://localhost:8080/"
        }
      },
      "outputs": [
        {
          "output_type": "stream",
          "name": "stdout",
          "text": [
            "Collecting forex_python\n",
            "  Downloading forex_python-1.8-py3-none-any.whl (8.2 kB)\n",
            "Requirement already satisfied: requests in /usr/local/lib/python3.10/dist-packages (from forex_python) (2.27.1)\n",
            "Collecting simplejson (from forex_python)\n",
            "  Downloading simplejson-3.19.1-cp310-cp310-manylinux_2_5_x86_64.manylinux1_x86_64.manylinux_2_17_x86_64.manylinux2014_x86_64.whl (137 kB)\n",
            "\u001b[2K     \u001b[90m━━━━━━━━━━━━━━━━━━━━━━━━━━━━━━━━━━━━━━━\u001b[0m \u001b[32m137.9/137.9 kB\u001b[0m \u001b[31m1.1 MB/s\u001b[0m eta \u001b[36m0:00:00\u001b[0m\n",
            "\u001b[?25hRequirement already satisfied: urllib3<1.27,>=1.21.1 in /usr/local/lib/python3.10/dist-packages (from requests->forex_python) (1.26.16)\n",
            "Requirement already satisfied: certifi>=2017.4.17 in /usr/local/lib/python3.10/dist-packages (from requests->forex_python) (2023.5.7)\n",
            "Requirement already satisfied: charset-normalizer~=2.0.0 in /usr/local/lib/python3.10/dist-packages (from requests->forex_python) (2.0.12)\n",
            "Requirement already satisfied: idna<4,>=2.5 in /usr/local/lib/python3.10/dist-packages (from requests->forex_python) (3.4)\n",
            "Installing collected packages: simplejson, forex_python\n",
            "Successfully installed forex_python-1.8 simplejson-3.19.1\n",
            "1: HKD to CNY\n",
            "2: HKD to USD\n",
            "3: Exit\n",
            "\n",
            "\n",
            "Enter your option:1\n",
            "Your Option is: 1. HKD to CNY\n",
            "Enter HK$:10\n",
            "Exchange rate: 0.9185011386377752\n",
            "Result: HK$ 10.000 = CNY$ 9.185\n",
            "\n",
            "\n",
            "1: HKD to CNY\n",
            "2: HKD to USD\n",
            "3: Exit\n",
            "\n",
            "\n",
            "Enter your option:2\n",
            "Your Option is: 2. HKD to USD\n",
            "Enter HK$:10\n",
            "Exchange rate: 0.12792997952752286\n",
            "Result: HK$ 10.000 = US$ 1.279\n",
            "\n",
            "\n",
            "1: HKD to CNY\n",
            "2: HKD to USD\n",
            "3: Exit\n",
            "\n",
            "\n",
            "Enter your option:3\n",
            "Your Option is: 3. Exit\n",
            "End of the program.\n"
          ]
        }
      ],
      "source": [
        "# Name: YANG Steven Chunmeng, Student No. 20976243\n",
        "# Exercise 5:\n",
        "# - Find a Python package to retrive real-time currency exchange rates\n",
        "# - Examine the selected package(s)\n",
        "# - Apply the selected packages for the implementation\n",
        "# Solution: adopt \"forex_python\" python package\n",
        "!pip install forex_python\n",
        "from forex_python.converter import CurrencyRates\n",
        "import datetime\n",
        "c = CurrencyRates()\n",
        "\n",
        "#Finds today's date\n",
        "date=datetime.date.today()\n",
        "\n",
        "hkd_to_cny = c.get_rate('HKD','CNY',date) #Exchange Rate of HKD to CNY\n",
        "hkd_to_usd = c.get_rate('HKD','USD',date)  #Exchange Rate of HKD to USD\n",
        "\n",
        "while True:\n",
        "    print(\"1: HKD to CNY\")\n",
        "    print(\"2: HKD to USD\")\n",
        "    print(\"3: Exit\")\n",
        "    print(\"\\n\")\n",
        "    choice = int(input(\"Enter your option:\"))\n",
        "    if choice == 1:\n",
        "        print(\"Your Option is: 1. HKD to CNY\")\n",
        "        HKD = float(input(\"Enter HK$:\"))\n",
        "        CNY = hkd_to_cny*HKD\n",
        "        print(f\"Exchange rate: {hkd_to_cny}\")\n",
        "        print(f\"Result: HK$ {HKD:.3f} = CNY$ {CNY:.3f}\")\n",
        "        print(\"\\n\")\n",
        "    elif choice == 2:\n",
        "        print(\"Your Option is: 2. HKD to USD\")\n",
        "        HKD = float(input(\"Enter HK$:\"))\n",
        "        USD = hkd_to_usd*HKD\n",
        "        print(f\"Exchange rate: {hkd_to_usd}\")\n",
        "        print(f\"Result: HK$ {HKD:.3f} = US$ {USD:.3f}\")\n",
        "        print(\"\\n\")\n",
        "    elif choice == 3:\n",
        "        print(\"Your Option is: 3. Exit\")\n",
        "        print(\"End of the program.\")\n",
        "        break\n",
        "    else:\n",
        "        print(\"Other choice\")"
      ]
    }
  ],
  "metadata": {
    "kernelspec": {
      "display_name": ".venv",
      "language": "python",
      "name": "python3"
    },
    "language_info": {
      "codemirror_mode": {
        "name": "ipython",
        "version": 3
      },
      "file_extension": ".py",
      "mimetype": "text/x-python",
      "name": "python",
      "nbconvert_exporter": "python",
      "pygments_lexer": "ipython3",
      "version": "3.11.4"
    },
    "orig_nbformat": 4,
    "colab": {
      "provenance": []
    }
  },
  "nbformat": 4,
  "nbformat_minor": 0
}