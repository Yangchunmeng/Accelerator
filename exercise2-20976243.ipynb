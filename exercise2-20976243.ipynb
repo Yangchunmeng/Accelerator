{
 "cells": [
  {
   "cell_type": "code",
   "execution_count": 3,
   "metadata": {},
   "outputs": [
    {
     "name": "stdout",
     "output_type": "stream",
     "text": [
      "Annual Electricity Consumption: 1000 units\n",
      "Total Annual Carbon Emission: 710 kg CO2e\n"
     ]
    }
   ],
   "source": [
    "# Name: YANG Steven Chunmeng, Student No. 20976243\n",
    "# Exercise 2: Corporate Social Responsibility (CSR)\n",
    "AEC = int(input(\"Enter Annual Electricity Consumption:\"))\n",
    "ACE = int(0.710*AEC)\n",
    "print(\"Annual Electricity Consumption:\",AEC, \"units\")\n",
    "print(\"Total Annual Carbon Emission:\",ACE,\"kg CO2e\")"
   ]
  }
 ],
 "metadata": {
  "kernelspec": {
   "display_name": ".venv",
   "language": "python",
   "name": "python3"
  },
  "language_info": {
   "codemirror_mode": {
    "name": "ipython",
    "version": 3
   },
   "file_extension": ".py",
   "mimetype": "text/x-python",
   "name": "python",
   "nbconvert_exporter": "python",
   "pygments_lexer": "ipython3",
   "version": "3.11.4"
  },
  "orig_nbformat": 4
 },
 "nbformat": 4,
 "nbformat_minor": 2
}
