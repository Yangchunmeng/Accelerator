{
  "cells": [
    {
      "cell_type": "code",
      "execution_count": 4,
      "metadata": {
        "id": "mJwM94EM0kEF",
        "outputId": "a44ba1e9-e0e7-4d69-a1db-ad2698248c13",
        "colab": {
          "base_uri": "https://localhost:8080/"
        }
      },
      "outputs": [
        {
          "output_type": "stream",
          "name": "stdout",
          "text": [
            "Enter Annual Electricity Consumption: 1000\n",
            "Annual Electricity Consumption: 1000 units\n",
            "Total Annual Carbon Emission: 680kg CO₂e\n"
          ]
        }
      ],
      "source": [
        "# Name: YANG Steven Chunmeng, Student No. 20976243\n",
        "# Exercise 2: Corporate Social Responsibility (CSR)\n",
        "AEC = int(input(\"Enter Annual Electricity Consumption: \"))\n",
        "ACE = int(0.68*AEC)\n",
        "print(\"Annual Electricity Consumption:\",AEC, \"units\")\n",
        "print(\"Total Annual Carbon Emission: \",ACE,\"kg CO\\u2082e\",sep=\"\")"
      ]
    }
  ],
  "metadata": {
    "kernelspec": {
      "display_name": ".venv",
      "language": "python",
      "name": "python3"
    },
    "language_info": {
      "codemirror_mode": {
        "name": "ipython",
        "version": 3
      },
      "file_extension": ".py",
      "mimetype": "text/x-python",
      "name": "python",
      "nbconvert_exporter": "python",
      "pygments_lexer": "ipython3",
      "version": "3.11.4"
    },
    "orig_nbformat": 4,
    "colab": {
      "provenance": []
    }
  },
  "nbformat": 4,
  "nbformat_minor": 0
}