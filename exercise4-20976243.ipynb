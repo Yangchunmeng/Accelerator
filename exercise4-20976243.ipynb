{
 "cells": [
  {
   "cell_type": "code",
   "execution_count": 5,
   "metadata": {},
   "outputs": [
    {
     "name": "stdout",
     "output_type": "stream",
     "text": [
      "1: HKD to CNY\n",
      "2: HKD to USD\n",
      "3: Exit\n",
      "Your Option is: 1. HKD to CNY\n",
      "Exchange rate: 0.916043\n",
      "Result: HK$ 10.000 = CNY$ 9.160\n",
      "1: HKD to CNY\n",
      "2: HKD to USD\n",
      "3: Exit\n",
      "Your Option is: 2. HKD to USD\n",
      "Exchange rate: 0.128589\n",
      "Result: HK$ 10.000 = US$ 1.286\n",
      "1: HKD to CNY\n",
      "2: HKD to USD\n",
      "3: Exit\n",
      "Your Option is: 3. Exit\n",
      "End of the program.\n"
     ]
    }
   ],
   "source": [
    "# Name: YANG Steven Chunmeng, Student No. 20976243\n",
    "# Exercise 4: Uses while loop and if-else statements.\n",
    "\n",
    "hkd_to_cny = 0.916043 #Exchange Rate of HKD to CNY\n",
    "hkd_to_usd = 0.128589 #Exchange Rate of HKD to USD\n",
    "\n",
    "while True:\n",
    "    print(\"1: HKD to CNY\")\n",
    "    print(\"2: HKD to USD\")\n",
    "    print(\"3: Exit\")\n",
    "    choice = int(input(\"Enter your option:\"))\n",
    "    if choice == 1:\n",
    "        print(\"Your Option is: 1. HKD to CNY\")\n",
    "        HKD = float(input(\"Enter HK$:\"))\n",
    "        CNY = hkd_to_cny*HKD\n",
    "        print(f\"Exchange rate: {hkd_to_cny}\")\n",
    "        print(f\"Result: HK$ {HKD:.3f} = CNY$ {CNY:.3f}\")\n",
    "    elif choice == 2:\n",
    "        print(\"Your Option is: 2. HKD to USD\")\n",
    "        HKD = float(input(\"Enter HK$:\"))\n",
    "        USD = hkd_to_usd*HKD\n",
    "        print(f\"Exchange rate: {hkd_to_usd}\")\n",
    "        print(f\"Result: HK$ {HKD:.3f} = US$ {USD:.3f}\")\n",
    "    elif choice == 3:\n",
    "        print(\"Your Option is: 3. Exit\")\n",
    "        print(\"End of the program.\")\n",
    "        break\n",
    "    else:\n",
    "        print(\"Other choice\")"
   ]
  }
 ],
 "metadata": {
  "kernelspec": {
   "display_name": ".venv",
   "language": "python",
   "name": "python3"
  },
  "language_info": {
   "codemirror_mode": {
    "name": "ipython",
    "version": 3
   },
   "file_extension": ".py",
   "mimetype": "text/x-python",
   "name": "python",
   "nbconvert_exporter": "python",
   "pygments_lexer": "ipython3",
   "version": "3.11.4"
  },
  "orig_nbformat": 4
 },
 "nbformat": 4,
 "nbformat_minor": 2
}
