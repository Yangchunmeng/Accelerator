{
 "cells": [
  {
   "cell_type": "code",
   "execution_count": 3,
   "metadata": {},
   "outputs": [
    {
     "name": "stdout",
     "output_type": "stream",
     "text": [
      "Currency: 10  HKD =  9.16 CNY\n"
     ]
    }
   ],
   "source": [
    "# Name: YANG Steven Chunmeng, Student No. 20976243\n",
    "# Exercise 1: Convert HKD to CNY\n",
    "HKD = int(input(\"Enter HKD:\"))\n",
    "CNY = round(0.916043*HKD,2)\n",
    "print(\"Currency:\",HKD,\" HKD = \",CNY,\"CNY\")"
   ]
  }
 ],
 "metadata": {
  "kernelspec": {
   "display_name": ".venv",
   "language": "python",
   "name": "python3"
  },
  "language_info": {
   "codemirror_mode": {
    "name": "ipython",
    "version": 3
   },
   "file_extension": ".py",
   "mimetype": "text/x-python",
   "name": "python",
   "nbconvert_exporter": "python",
   "pygments_lexer": "ipython3",
   "version": "3.11.4"
  },
  "orig_nbformat": 4
 },
 "nbformat": 4,
 "nbformat_minor": 2
}
