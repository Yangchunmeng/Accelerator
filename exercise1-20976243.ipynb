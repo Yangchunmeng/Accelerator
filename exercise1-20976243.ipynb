{
  "cells": [
    {
      "cell_type": "code",
      "execution_count": 2,
      "metadata": {
        "id": "1ykzoQy2zstZ",
        "outputId": "905eb5e7-c07d-4620-e661-af6198480acd",
        "colab": {
          "base_uri": "https://localhost:8080/"
        }
      },
      "outputs": [
        {
          "output_type": "stream",
          "name": "stdout",
          "text": [
            "Enter HKD: 10\n",
            "Currency: 10  HKD =  9.16 CNY\n"
          ]
        }
      ],
      "source": [
        "# Name: YANG Steven Chunmeng, Student No. 20976243\n",
        "# Exercise 1: Convert HKD to CNY\n",
        "HKD = int(input(\"Enter HKD: \"))\n",
        "CNY = round(0.916043*HKD,2)\n",
        "print(\"Currency:\",HKD,\" HKD = \",CNY,\"CNY\")"
      ]
    }
  ],
  "metadata": {
    "kernelspec": {
      "display_name": ".venv",
      "language": "python",
      "name": "python3"
    },
    "language_info": {
      "codemirror_mode": {
        "name": "ipython",
        "version": 3
      },
      "file_extension": ".py",
      "mimetype": "text/x-python",
      "name": "python",
      "nbconvert_exporter": "python",
      "pygments_lexer": "ipython3",
      "version": "3.11.4"
    },
    "orig_nbformat": 4,
    "colab": {
      "provenance": []
    }
  },
  "nbformat": 4,
  "nbformat_minor": 0
}