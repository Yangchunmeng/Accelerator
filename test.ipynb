{
  "cells": [
    {
      "cell_type": "code",
      "source": [
        "print(\"Welcome\")"
      ],
      "metadata": {
        "id": "BVgGo1pAzzHA",
        "outputId": "5711a37b-a699-4816-83eb-cd3eddc5d54e",
        "colab": {
          "base_uri": "https://localhost:8080/"
        }
      },
      "execution_count": null,
      "outputs": [
        {
          "output_type": "stream",
          "name": "stdout",
          "text": [
            "Welcome\n"
          ]
        }
      ]
    },
    {
      "cell_type": "markdown",
      "source": [
        "# Program 1"
      ],
      "metadata": {
        "id": "_HALXvWPfOYR"
      }
    },
    {
      "cell_type": "code",
      "execution_count": 3,
      "metadata": {
        "id": "r4WjKIXI3US_",
        "outputId": "dc0aba7a-4a3b-4b2b-a6c5-3ec7da1a0892",
        "colab": {
          "base_uri": "https://localhost:8080/"
        }
      },
      "outputs": [
        {
          "output_type": "stream",
          "name": "stdout",
          "text": [
            "Enter km/h:70\n",
            "Speed: 70 KM/H =  43.498 MPH\n"
          ]
        }
      ],
      "source": [
        "# Program 1: Converting KM/H to MPH\n",
        "kmh = int(input(\"Enter km/h:\"))\n",
        "mph = 0.6214*kmh\n",
        "print(\"Speed:\",kmh,\"KM/H = \",mph,\"MPH\")"
      ]
    },
    {
      "cell_type": "markdown",
      "source": [
        "# Basic Syntax"
      ],
      "metadata": {
        "id": "6F-3NS_ffS34"
      }
    },
    {
      "cell_type": "code",
      "source": [
        "print(\"Hello\",\"World\") #default sep as a space\n",
        "print(\"Hello\",\"World\",sep=\"&\")\n",
        "print(\"Hello\",\"World\",sep=\"\")\n",
        "print(\"Hello\",\"World\") #default end as a newline,\\n\n",
        "print(\"Hello\",end=\"\")\n",
        "print(\"World\")\n",
        "print(\"He\\nllo\")"
      ],
      "metadata": {
        "id": "JXns6T_XiS8L",
        "outputId": "d39736ef-e0b7-40a0-e9bc-c4828f30cfec",
        "colab": {
          "base_uri": "https://localhost:8080/"
        }
      },
      "execution_count": 12,
      "outputs": [
        {
          "output_type": "stream",
          "name": "stdout",
          "text": [
            "Hello World\n",
            "Hello&World\n",
            "HelloWorld\n",
            "Hello World\n",
            "HelloWorld\n",
            "He\n",
            "llo\n"
          ]
        }
      ]
    },
    {
      "cell_type": "code",
      "source": [
        "help(print)"
      ],
      "metadata": {
        "id": "v3wsznS2hy-s",
        "outputId": "4b85055d-976b-4906-b1a8-9901dcaad378",
        "colab": {
          "base_uri": "https://localhost:8080/"
        }
      },
      "execution_count": 4,
      "outputs": [
        {
          "output_type": "stream",
          "name": "stdout",
          "text": [
            "Help on built-in function print in module builtins:\n",
            "\n",
            "print(...)\n",
            "    print(value, ..., sep=' ', end='\\n', file=sys.stdout, flush=False)\n",
            "    \n",
            "    Prints the values to a stream, or to sys.stdout by default.\n",
            "    Optional keyword arguments:\n",
            "    file:  a file-like object (stream); defaults to the current sys.stdout.\n",
            "    sep:   string inserted between values, default a space.\n",
            "    end:   string appended after the last value, default a newline.\n",
            "    flush: whether to forcibly flush the stream.\n",
            "\n"
          ]
        }
      ]
    },
    {
      "cell_type": "code",
      "execution_count": null,
      "metadata": {
        "id": "PCWeTrl43UTE",
        "outputId": "b37135b2-6799-480e-8439-008dc653041c",
        "colab": {
          "base_uri": "https://localhost:8080/"
        }
      },
      "outputs": [
        {
          "output_type": "stream",
          "name": "stdout",
          "text": [
            "num 1 + num 2 =  27\n"
          ]
        }
      ],
      "source": [
        "# Add two numbers\n",
        "num1 = 15\n",
        "num2 = 12\n",
        "print(\"num 1 + num 2 = \",num1+num2)"
      ]
    },
    {
      "cell_type": "code",
      "execution_count": null,
      "metadata": {
        "id": "J30eLx8_3UTE",
        "outputId": "e95e63b7-4de8-4073-e87f-b9a96fdab4db",
        "colab": {
          "base_uri": "https://localhost:8080/"
        }
      },
      "outputs": [
        {
          "output_type": "stream",
          "name": "stdout",
          "text": [
            "The total is: $ 27.5\n"
          ]
        }
      ],
      "source": [
        "price_water = 5\n",
        "price_burger = 22.5\n",
        "total = price_water + price_burger\n",
        "print(\"The total is: $\", total)"
      ]
    }
  ],
  "metadata": {
    "kernelspec": {
      "display_name": ".venv",
      "language": "python",
      "name": "python3"
    },
    "language_info": {
      "codemirror_mode": {
        "name": "ipython",
        "version": 3
      },
      "file_extension": ".py",
      "mimetype": "text/x-python",
      "name": "python",
      "nbconvert_exporter": "python",
      "pygments_lexer": "ipython3",
      "version": "3.11.4"
    },
    "orig_nbformat": 4,
    "colab": {
      "provenance": []
    }
  },
  "nbformat": 4,
  "nbformat_minor": 0
}