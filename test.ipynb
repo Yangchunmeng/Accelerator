{
  "cells": [
    {
      "cell_type": "markdown",
      "metadata": {
        "id": "view-in-github",
        "colab_type": "text"
      },
      "source": [
        "<a href=\"https://colab.research.google.com/github/Yangchunmeng/Accelerator/blob/main/test.ipynb\" target=\"_parent\"><img src=\"https://colab.research.google.com/assets/colab-badge.svg\" alt=\"Open In Colab\"/></a>"
      ]
    },
    {
      "cell_type": "code",
      "source": [
        "print(\"Welcome\")"
      ],
      "metadata": {
        "id": "BVgGo1pAzzHA",
        "outputId": "5711a37b-a699-4816-83eb-cd3eddc5d54e",
        "colab": {
          "base_uri": "https://localhost:8080/"
        }
      },
      "execution_count": null,
      "outputs": [
        {
          "output_type": "stream",
          "name": "stdout",
          "text": [
            "Welcome\n"
          ]
        }
      ]
    },
    {
      "cell_type": "markdown",
      "source": [
        "# Program 1"
      ],
      "metadata": {
        "id": "_HALXvWPfOYR"
      }
    },
    {
      "cell_type": "code",
      "execution_count": null,
      "metadata": {
        "id": "r4WjKIXI3US_",
        "outputId": "dc0aba7a-4a3b-4b2b-a6c5-3ec7da1a0892",
        "colab": {
          "base_uri": "https://localhost:8080/"
        }
      },
      "outputs": [
        {
          "output_type": "stream",
          "name": "stdout",
          "text": [
            "Enter km/h:70\n",
            "Speed: 70 KM/H =  43.498 MPH\n"
          ]
        }
      ],
      "source": [
        "# Program 1: Converting KM/H to MPH\n",
        "kmh = int(input(\"Enter km/h:\"))\n",
        "mph = 0.6214*kmh\n",
        "print(\"Speed:\",kmh,\"KM/H = \",mph,\"MPH\")"
      ]
    },
    {
      "cell_type": "markdown",
      "source": [
        "# Basic Syntax"
      ],
      "metadata": {
        "id": "6F-3NS_ffS34"
      }
    },
    {
      "cell_type": "code",
      "source": [
        "print(\"Hello\",\"World\") #default sep as a space\n",
        "print(\"Hello\",\"World\",sep=\"&\")\n",
        "print(\"Hello\",\"World\",sep=\"\")\n",
        "print(\"Hello\",\"World\") #default end as a newline,\\n\n",
        "print(\"Hello\",end=\"\")\n",
        "print(\"World\")\n",
        "print(\"He\\nllo\")\n",
        "print(\"\\t\\tHe\\n\\nllo\")"
      ],
      "metadata": {
        "colab": {
          "base_uri": "https://localhost:8080/"
        },
        "id": "JXns6T_XiS8L",
        "outputId": "da002914-9aaf-444c-9c8b-e1f15d04db33"
      },
      "execution_count": null,
      "outputs": [
        {
          "output_type": "stream",
          "name": "stdout",
          "text": [
            "Hello World\n",
            "Hello&World\n",
            "HelloWorld\n",
            "Hello World\n",
            "HelloWorld\n",
            "He\n",
            "llo\n",
            "\t\tHe\n",
            "\n",
            "llo\n"
          ]
        }
      ]
    },
    {
      "cell_type": "code",
      "source": [
        "help(print)"
      ],
      "metadata": {
        "colab": {
          "base_uri": "https://localhost:8080/"
        },
        "id": "v3wsznS2hy-s",
        "outputId": "4b85055d-976b-4906-b1a8-9901dcaad378"
      },
      "execution_count": null,
      "outputs": [
        {
          "output_type": "stream",
          "name": "stdout",
          "text": [
            "Help on built-in function print in module builtins:\n",
            "\n",
            "print(...)\n",
            "    print(value, ..., sep=' ', end='\\n', file=sys.stdout, flush=False)\n",
            "    \n",
            "    Prints the values to a stream, or to sys.stdout by default.\n",
            "    Optional keyword arguments:\n",
            "    file:  a file-like object (stream); defaults to the current sys.stdout.\n",
            "    sep:   string inserted between values, default a space.\n",
            "    end:   string appended after the last value, default a newline.\n",
            "    flush: whether to forcibly flush the stream.\n",
            "\n"
          ]
        }
      ]
    },
    {
      "cell_type": "code",
      "source": [
        "'''\n",
        "This part is a comment.\n",
        "'''\n",
        "\n",
        "\"\"\"\n",
        "This part is also a comment.\n",
        "\"\"\"\n",
        "print(\"test\")\n",
        "print('abc\"cde\"fgh')"
      ],
      "metadata": {
        "colab": {
          "base_uri": "https://localhost:8080/"
        },
        "id": "aJ0Cutnrkg_L",
        "outputId": "af904591-1a66-4f03-9fc6-8ac965d804b8"
      },
      "execution_count": null,
      "outputs": [
        {
          "output_type": "stream",
          "name": "stdout",
          "text": [
            "test\n",
            "abc\"cde\"fgh\n"
          ]
        }
      ]
    },
    {
      "cell_type": "code",
      "execution_count": null,
      "metadata": {
        "id": "PCWeTrl43UTE",
        "outputId": "b37135b2-6799-480e-8439-008dc653041c",
        "colab": {
          "base_uri": "https://localhost:8080/"
        }
      },
      "outputs": [
        {
          "output_type": "stream",
          "name": "stdout",
          "text": [
            "num 1 + num 2 =  27\n"
          ]
        }
      ],
      "source": [
        "# Add two numbers\n",
        "num1 = 15\n",
        "num2 = 12\n",
        "print(\"num 1 + num 2 = \",num1+num2)"
      ]
    },
    {
      "cell_type": "code",
      "execution_count": null,
      "metadata": {
        "id": "J30eLx8_3UTE",
        "outputId": "e95e63b7-4de8-4073-e87f-b9a96fdab4db",
        "colab": {
          "base_uri": "https://localhost:8080/"
        }
      },
      "outputs": [
        {
          "output_type": "stream",
          "name": "stdout",
          "text": [
            "The total is: $ 27.5\n"
          ]
        }
      ],
      "source": [
        "price_water = 5\n",
        "price_burger = 22.5\n",
        "total = price_water + price_burger\n",
        "print(\"The total is: $\", total)"
      ]
    },
    {
      "cell_type": "code",
      "source": [
        "ans1 = input(\"Am I hungry? Yes or No: \")\n",
        "if ans1 == \"No\":\n",
        "  print(\"Go to sleep\")\n",
        "elif ans1 == \"Yes\":\n",
        "  ans2 = input(\"Have I 25$? Yes or No: \")\n",
        "  if ans2 == \"Yes\":\n",
        "    print(\"Go to restaurant\")\n",
        "  elif ans2 == \"No\":\n",
        "    print(\"Buy a hamburger\")"
      ],
      "metadata": {
        "id": "LbmGajW14Sz9",
        "outputId": "85b4eb3e-e129-48dc-f530-9cf631378cb3",
        "colab": {
          "base_uri": "https://localhost:8080/"
        }
      },
      "execution_count": 8,
      "outputs": [
        {
          "output_type": "stream",
          "name": "stdout",
          "text": [
            "Am I hungry? Yes or No: Yes\n",
            "Have I 25$? Yes or No: Yes\n",
            "Go to restaurant\n"
          ]
        }
      ]
    }
  ],
  "metadata": {
    "kernelspec": {
      "display_name": ".venv",
      "language": "python",
      "name": "python3"
    },
    "language_info": {
      "codemirror_mode": {
        "name": "ipython",
        "version": 3
      },
      "file_extension": ".py",
      "mimetype": "text/x-python",
      "name": "python",
      "nbconvert_exporter": "python",
      "pygments_lexer": "ipython3",
      "version": "3.11.4"
    },
    "orig_nbformat": 4,
    "colab": {
      "provenance": [],
      "include_colab_link": true
    }
  },
  "nbformat": 4,
  "nbformat_minor": 0
}