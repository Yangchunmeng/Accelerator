{
  "cells": [
    {
      "cell_type": "code",
      "execution_count": 1,
      "metadata": {
        "id": "r4WjKIXI3US_",
        "outputId": "400d1629-ddec-4ad7-9ec9-b6f6248a37af",
        "colab": {
          "base_uri": "https://localhost:8080/"
        }
      },
      "outputs": [
        {
          "output_type": "stream",
          "name": "stdout",
          "text": [
            "Enter km/h:70\n",
            "Speed: 70 KM/H =  43.498 MPH\n"
          ]
        }
      ],
      "source": [
        "# Program 1: Converting KM/H to MPH\n",
        "kmh = int(input(\"Enter km/h:\"))\n",
        "mph = 0.6214*kmh\n",
        "print(\"Speed:\",kmh,\"KM/H = \",mph,\"MPH\")"
      ]
    },
    {
      "cell_type": "code",
      "execution_count": 2,
      "metadata": {
        "id": "PCWeTrl43UTE",
        "outputId": "b37135b2-6799-480e-8439-008dc653041c",
        "colab": {
          "base_uri": "https://localhost:8080/"
        }
      },
      "outputs": [
        {
          "output_type": "stream",
          "name": "stdout",
          "text": [
            "num 1 + num 2 =  27\n"
          ]
        }
      ],
      "source": [
        "# Add two numbers\n",
        "num1 = 15\n",
        "num2 = 12\n",
        "print(\"num 1 + num 2 = \",num1+num2)"
      ]
    },
    {
      "cell_type": "code",
      "execution_count": 3,
      "metadata": {
        "id": "J30eLx8_3UTE",
        "outputId": "e95e63b7-4de8-4073-e87f-b9a96fdab4db",
        "colab": {
          "base_uri": "https://localhost:8080/"
        }
      },
      "outputs": [
        {
          "output_type": "stream",
          "name": "stdout",
          "text": [
            "The total is: $ 27.5\n"
          ]
        }
      ],
      "source": [
        "price_water = 5\n",
        "price_burger = 22.5\n",
        "total = price_water + price_burger\n",
        "print(\"The total is: $\", total)"
      ]
    }
  ],
  "metadata": {
    "kernelspec": {
      "display_name": ".venv",
      "language": "python",
      "name": "python3"
    },
    "language_info": {
      "codemirror_mode": {
        "name": "ipython",
        "version": 3
      },
      "file_extension": ".py",
      "mimetype": "text/x-python",
      "name": "python",
      "nbconvert_exporter": "python",
      "pygments_lexer": "ipython3",
      "version": "3.11.4"
    },
    "orig_nbformat": 4,
    "colab": {
      "provenance": []
    }
  },
  "nbformat": 4,
  "nbformat_minor": 0
}