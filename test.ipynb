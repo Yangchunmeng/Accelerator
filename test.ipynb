{
  "cells": [
    {
      "cell_type": "markdown",
      "metadata": {
        "id": "view-in-github",
        "colab_type": "text"
      },
      "source": [
        "<a href=\"https://colab.research.google.com/github/Yangchunmeng/Accelerator/blob/main/test.ipynb\" target=\"_parent\"><img src=\"https://colab.research.google.com/assets/colab-badge.svg\" alt=\"Open In Colab\"/></a>"
      ]
    },
    {
      "cell_type": "code",
      "source": [
        "print(\"Welcome\")"
      ],
      "metadata": {
        "id": "BVgGo1pAzzHA",
        "outputId": "5711a37b-a699-4816-83eb-cd3eddc5d54e",
        "colab": {
          "base_uri": "https://localhost:8080/"
        }
      },
      "execution_count": null,
      "outputs": [
        {
          "output_type": "stream",
          "name": "stdout",
          "text": [
            "Welcome\n"
          ]
        }
      ]
    },
    {
      "cell_type": "markdown",
      "source": [
        "# Program 1"
      ],
      "metadata": {
        "id": "_HALXvWPfOYR"
      }
    },
    {
      "cell_type": "code",
      "execution_count": null,
      "metadata": {
        "id": "r4WjKIXI3US_",
        "outputId": "dc0aba7a-4a3b-4b2b-a6c5-3ec7da1a0892",
        "colab": {
          "base_uri": "https://localhost:8080/"
        }
      },
      "outputs": [
        {
          "output_type": "stream",
          "name": "stdout",
          "text": [
            "Enter km/h:70\n",
            "Speed: 70 KM/H =  43.498 MPH\n"
          ]
        }
      ],
      "source": [
        "# Program 1: Converting KM/H to MPH\n",
        "kmh = int(input(\"Enter km/h:\"))\n",
        "mph = 0.6214*kmh\n",
        "print(\"Speed:\",kmh,\"KM/H = \",mph,\"MPH\")"
      ]
    },
    {
      "cell_type": "markdown",
      "source": [
        "# Basic Syntax"
      ],
      "metadata": {
        "id": "6F-3NS_ffS34"
      }
    },
    {
      "cell_type": "code",
      "source": [
        "print(\"Hello\",\"World\") #default sep as a space\n",
        "print(\"Hello\",\"World\",sep=\"&\")\n",
        "print(\"Hello\",\"World\",sep=\"\")\n",
        "print(\"Hello\",\"World\") #default end as a newline,\\n\n",
        "print(\"Hello\",end=\"\")\n",
        "print(\"World\")\n",
        "print(\"He\\nllo\")\n",
        "print(\"\\t\\tHe\\n\\nllo\")"
      ],
      "metadata": {
        "colab": {
          "base_uri": "https://localhost:8080/"
        },
        "id": "JXns6T_XiS8L",
        "outputId": "da002914-9aaf-444c-9c8b-e1f15d04db33"
      },
      "execution_count": null,
      "outputs": [
        {
          "output_type": "stream",
          "name": "stdout",
          "text": [
            "Hello World\n",
            "Hello&World\n",
            "HelloWorld\n",
            "Hello World\n",
            "HelloWorld\n",
            "He\n",
            "llo\n",
            "\t\tHe\n",
            "\n",
            "llo\n"
          ]
        }
      ]
    },
    {
      "cell_type": "code",
      "source": [
        "help(print)"
      ],
      "metadata": {
        "colab": {
          "base_uri": "https://localhost:8080/"
        },
        "id": "v3wsznS2hy-s",
        "outputId": "4b85055d-976b-4906-b1a8-9901dcaad378"
      },
      "execution_count": null,
      "outputs": [
        {
          "output_type": "stream",
          "name": "stdout",
          "text": [
            "Help on built-in function print in module builtins:\n",
            "\n",
            "print(...)\n",
            "    print(value, ..., sep=' ', end='\\n', file=sys.stdout, flush=False)\n",
            "    \n",
            "    Prints the values to a stream, or to sys.stdout by default.\n",
            "    Optional keyword arguments:\n",
            "    file:  a file-like object (stream); defaults to the current sys.stdout.\n",
            "    sep:   string inserted between values, default a space.\n",
            "    end:   string appended after the last value, default a newline.\n",
            "    flush: whether to forcibly flush the stream.\n",
            "\n"
          ]
        }
      ]
    },
    {
      "cell_type": "code",
      "source": [
        "'''\n",
        "This part is a comment.\n",
        "'''\n",
        "\n",
        "\"\"\"\n",
        "This part is also a comment.\n",
        "\"\"\"\n",
        "print(\"test\")\n",
        "print('abc\"cde\"fgh')"
      ],
      "metadata": {
        "colab": {
          "base_uri": "https://localhost:8080/"
        },
        "id": "aJ0Cutnrkg_L",
        "outputId": "af904591-1a66-4f03-9fc6-8ac965d804b8"
      },
      "execution_count": null,
      "outputs": [
        {
          "output_type": "stream",
          "name": "stdout",
          "text": [
            "test\n",
            "abc\"cde\"fgh\n"
          ]
        }
      ]
    },
    {
      "cell_type": "code",
      "execution_count": null,
      "metadata": {
        "id": "PCWeTrl43UTE",
        "outputId": "b37135b2-6799-480e-8439-008dc653041c",
        "colab": {
          "base_uri": "https://localhost:8080/"
        }
      },
      "outputs": [
        {
          "output_type": "stream",
          "name": "stdout",
          "text": [
            "num 1 + num 2 =  27\n"
          ]
        }
      ],
      "source": [
        "# Add two numbers\n",
        "num1 = 15\n",
        "num2 = 12\n",
        "print(\"num 1 + num 2 = \",num1+num2)"
      ]
    },
    {
      "cell_type": "code",
      "execution_count": null,
      "metadata": {
        "id": "J30eLx8_3UTE",
        "outputId": "e95e63b7-4de8-4073-e87f-b9a96fdab4db",
        "colab": {
          "base_uri": "https://localhost:8080/"
        }
      },
      "outputs": [
        {
          "output_type": "stream",
          "name": "stdout",
          "text": [
            "The total is: $ 27.5\n"
          ]
        }
      ],
      "source": [
        "price_water = 5\n",
        "price_burger = 22.5\n",
        "total = price_water + price_burger\n",
        "print(\"The total is: $\", total)"
      ]
    },
    {
      "cell_type": "code",
      "source": [
        "# dictionary example\n",
        "\n",
        "student_dict = {\n",
        "  \"name\": \"J Kwok\",\n",
        "  \"class\": \"F5\",\n",
        "  \"year\": 2019,\n",
        "  \"Grade\": 'B+'\n",
        "}\n",
        "\n",
        "for key in student_dict:\n",
        "  print(key)"
      ],
      "metadata": {
        "colab": {
          "base_uri": "https://localhost:8080/"
        },
        "id": "hlppjy9MFDMR",
        "outputId": "064b1c91-8f92-4334-ae53-ceb3de36093d"
      },
      "execution_count": null,
      "outputs": [
        {
          "output_type": "stream",
          "name": "stdout",
          "text": [
            "name\n",
            "class\n",
            "year\n",
            "Grade\n"
          ]
        }
      ]
    },
    {
      "cell_type": "code",
      "source": [
        "student_dict = {\n",
        "  \"name\": \"J Kwok\",\n",
        "  \"name1\": \"J Kwok\",\n",
        "  \"class\": \"F5\",\n",
        "  \"year\": 2019,\n",
        "  \"Grade\": 'B+'\n",
        "}\n",
        "\n",
        "for key in student_dict:\n",
        "    print(f'key = {key}, val = {student_dict[key]}')"
      ],
      "metadata": {
        "colab": {
          "base_uri": "https://localhost:8080/"
        },
        "id": "VIsoyocDFXZv",
        "outputId": "3fc87b43-0238-4d48-9287-0c1a1c901842"
      },
      "execution_count": null,
      "outputs": [
        {
          "output_type": "stream",
          "name": "stdout",
          "text": [
            "key = name, val = J Kwok\n",
            "key = name1, val = J Kwok\n",
            "key = class, val = F5\n",
            "key = year, val = 2019\n",
            "key = Grade, val = B+\n"
          ]
        }
      ]
    },
    {
      "cell_type": "code",
      "source": [
        "# Example: one dimension\n",
        "# import package\n",
        "from numpy import array\n",
        "# list of data\n",
        "data = [10, 20, 30, 40, 50]\n",
        "data1 = [[10, 20], [30, 40], [50, 60]]\n",
        "# array of data\n",
        "data = array(data)\n",
        "data1 = array(data1)\n",
        "# showing data\n",
        "print(data)\n",
        "print(type(data))\n",
        "print(data1)\n",
        "print(type(data1))\n",
        "# determine the size of the numpy data\n",
        "print(data.shape)\n",
        "print(data1.shape)\n",
        "print(f'{data1.shape[1]} features and {data1.shape[0]} samples.')"
      ],
      "metadata": {
        "colab": {
          "base_uri": "https://localhost:8080/"
        },
        "id": "-FOstx3BP46J",
        "outputId": "66f89db7-a61f-442e-df2c-7262f8ec2b99"
      },
      "execution_count": null,
      "outputs": [
        {
          "output_type": "stream",
          "name": "stdout",
          "text": [
            "[10 20 30 40 50]\n",
            "<class 'numpy.ndarray'>\n",
            "[[10 20]\n",
            " [30 40]\n",
            " [50 60]]\n",
            "<class 'numpy.ndarray'>\n",
            "(5,)\n",
            "(3, 2)\n",
            "2 features and 3 samples.\n"
          ]
        }
      ]
    },
    {
      "cell_type": "markdown",
      "source": [
        "#Functions"
      ],
      "metadata": {
        "id": "3RHfu0WIQ78C"
      }
    },
    {
      "cell_type": "code",
      "source": [
        "def fun(last_name, first_name):\n",
        "  print(f'Your name is {last_name.capitalize()} {first_name}.')\n",
        "\n",
        "fun('jack', 'To')"
      ],
      "metadata": {
        "id": "zgcz30MVTooL",
        "outputId": "961df179-bd06-4431-e7a2-0af5beb8e4a6",
        "colab": {
          "base_uri": "https://localhost:8080/"
        }
      },
      "execution_count": null,
      "outputs": [
        {
          "output_type": "stream",
          "name": "stdout",
          "text": [
            "Your name is Jack To.\n"
          ]
        }
      ]
    },
    {
      "cell_type": "code",
      "source": [
        "#Using Argument Names\n",
        "def me(name=\"James\",age=20):\n",
        "  print(f\"My name is {name} and I am {age} years old.\")\n",
        "\n",
        "#main program\n",
        "me()\n",
        "me(name='John')\n",
        "me(age=15)\n",
        "me(name='Jack',age=10)\n",
        "me(age=20,name='John')\n",
        "me('Tom',30)"
      ],
      "metadata": {
        "colab": {
          "base_uri": "https://localhost:8080/"
        },
        "id": "FLGEJBhHRAK3",
        "outputId": "eb718999-95df-41a3-8689-69af3396ba68"
      },
      "execution_count": null,
      "outputs": [
        {
          "output_type": "stream",
          "name": "stdout",
          "text": [
            "My name is James and I am 20 years old.\n",
            "My name is John and I am 20 years old.\n",
            "My name is James and I am 15 years old.\n",
            "My name is Jack and I am 10 years old.\n",
            "My name is John and I am 20 years old.\n",
            "My name is Tom and I am 30 years old.\n"
          ]
        }
      ]
    },
    {
      "cell_type": "markdown",
      "source": [
        "# Function with One Return Value"
      ],
      "metadata": {
        "id": "G2-nHSKoUCgV"
      }
    },
    {
      "cell_type": "code",
      "source": [
        "def func(x,c):\n",
        "  y=5*x+c\n",
        "  return y, x, c\n",
        "\n",
        "#main program\n",
        "a, b, c = func(3,2)\n",
        "print(f\"{a}=5*{b}+{c}\")"
      ],
      "metadata": {
        "id": "UAOfwOPJUGFO",
        "outputId": "80c12af0-3e53-41e4-aae7-055e0c1eb09c",
        "colab": {
          "base_uri": "https://localhost:8080/"
        }
      },
      "execution_count": null,
      "outputs": [
        {
          "output_type": "stream",
          "name": "stdout",
          "text": [
            "17=5*3+2\n"
          ]
        }
      ]
    },
    {
      "cell_type": "code",
      "source": [
        "Apple_list = ['haha','oaoa',1,2,3]\n",
        "index_val = 0\n",
        "for extracted_item in Apple_list:\n",
        "  if index_val == 1:\n",
        "    print (f\"the item is {extracted_item} in {index_val}\")\n",
        "  index_val +=1"
      ],
      "metadata": {
        "id": "nLpKWce7oKSO",
        "outputId": "0530b56b-f0fb-4c80-d0b3-5897a5ca4f19",
        "colab": {
          "base_uri": "https://localhost:8080/"
        }
      },
      "execution_count": null,
      "outputs": [
        {
          "output_type": "stream",
          "name": "stdout",
          "text": [
            "the item is oaoa in 1\n"
          ]
        }
      ]
    },
    {
      "cell_type": "code",
      "source": [
        "def func(input_dic):\n",
        "  y=5*input_dic['x']+input_dic['c']\n",
        "  input_dic['y'] = y # create a new key\n",
        "  return input_dic\n",
        "\n",
        "#main program\n",
        "input_dic = {\"x\":5, \"c\":6}\n",
        "rst_dic = func(input_dic)\n",
        "print(f\"{rst_dic['y']}=5*{rst_dic['x']}+{rst_dic['c']}\")"
      ],
      "metadata": {
        "id": "WwNpeyQ7fLcp",
        "outputId": "c1541d32-d616-485c-aea7-1642a6d117db",
        "colab": {
          "base_uri": "https://localhost:8080/"
        }
      },
      "execution_count": null,
      "outputs": [
        {
          "output_type": "stream",
          "name": "stdout",
          "text": [
            "31=5*5+6\n"
          ]
        }
      ]
    },
    {
      "cell_type": "code",
      "source": [
        "import pandas as pd\n",
        "\n",
        "# read a CSV file through a URL\n",
        "df=pd.read_csv(\"heart_exercise_w_missing_val.csv\")\n",
        "print(df)"
      ],
      "metadata": {
        "id": "uTk7_63tqS3o",
        "outputId": "a6509a37-0a20-49f7-f1bd-9e0d8a46480d",
        "colab": {
          "base_uri": "https://localhost:8080/"
        }
      },
      "execution_count": 8,
      "outputs": [
        {
          "output_type": "stream",
          "name": "stdout",
          "text": [
            "     age  sex  cp  trestbps  chol  fbs  restecg  thalach  exang  oldpeak  \\\n",
            "0     63    1   3       145   233    1        0      150      0      2.3   \n",
            "1     37    1   2       130   250    0        1      187      0      3.5   \n",
            "2     41    0   1       130   204    0        0      172      0      1.4   \n",
            "3     56    1   1       120   236    0        1      178      0      0.8   \n",
            "4     57    0   0       120   354    0        1      163      1      0.6   \n",
            "..   ...  ...  ..       ...   ...  ...      ...      ...    ...      ...   \n",
            "298   57    0   0       140   241    0        1      123      1      0.2   \n",
            "299   45    1   3       110   264    0        1      132      0      1.2   \n",
            "300   68    1   0       144   193    1        1      141      0      3.4   \n",
            "301   57    1   0       130   131    0        1      115      1      1.2   \n",
            "302   57    0   1       130   236    0        0      174      0      0.0   \n",
            "\n",
            "     slope  ca  thal  target  \n",
            "0      0.0   0     1       1  \n",
            "1      0.0   0     2       1  \n",
            "2      2.0   0     2       1  \n",
            "3      2.0   0     2       1  \n",
            "4      2.0   0     2       1  \n",
            "..     ...  ..   ...     ...  \n",
            "298    1.0   0     3       0  \n",
            "299    1.0   0     3       0  \n",
            "300    1.0   2     3       0  \n",
            "301    1.0   1     3       0  \n",
            "302    1.0   1     2       0  \n",
            "\n",
            "[303 rows x 14 columns]\n"
          ]
        }
      ]
    },
    {
      "cell_type": "code",
      "source": [
        "print(f\"{df.shape[0]} samples and {df.shape[1]-1} features\")"
      ],
      "metadata": {
        "id": "jgKlY-8Op-hY",
        "outputId": "4e81e420-71b7-436b-d545-7c80cfa68876",
        "colab": {
          "base_uri": "https://localhost:8080/"
        }
      },
      "execution_count": 9,
      "outputs": [
        {
          "output_type": "stream",
          "name": "stdout",
          "text": [
            "303 samples and 13 features\n"
          ]
        }
      ]
    },
    {
      "cell_type": "code",
      "source": [
        "df['age'].max()"
      ],
      "metadata": {
        "id": "-zQS_FMlsGgE",
        "outputId": "d3a5f111-d244-403f-ff60-438ea625201e",
        "colab": {
          "base_uri": "https://localhost:8080/"
        }
      },
      "execution_count": 12,
      "outputs": [
        {
          "output_type": "execute_result",
          "data": {
            "text/plain": [
              "77"
            ]
          },
          "metadata": {},
          "execution_count": 12
        }
      ]
    },
    {
      "cell_type": "code",
      "source": [
        "df['age'].min()"
      ],
      "metadata": {
        "id": "4wH7kgvIsOdw",
        "outputId": "0109a473-441a-4087-c8c1-8389a10875ef",
        "colab": {
          "base_uri": "https://localhost:8080/"
        }
      },
      "execution_count": 11,
      "outputs": [
        {
          "output_type": "execute_result",
          "data": {
            "text/plain": [
              "29"
            ]
          },
          "metadata": {},
          "execution_count": 11
        }
      ]
    },
    {
      "cell_type": "code",
      "source": [
        "df[df['age']>70]"
      ],
      "metadata": {
        "id": "_KuJ61BfsVKL",
        "outputId": "7781675a-d529-4d02-d57e-816a59c9bdf3",
        "colab": {
          "base_uri": "https://localhost:8080/",
          "height": 237
        }
      },
      "execution_count": 13,
      "outputs": [
        {
          "output_type": "execute_result",
          "data": {
            "text/plain": [
              "     age  sex  cp  trestbps  chol  fbs  restecg  thalach  exang  oldpeak  \\\n",
              "25    71    0   1       160   302    0        1      162      0      0.4   \n",
              "60    71    0   2       110   265    1        0      130      0      0.0   \n",
              "129   74    0   1       120   269    0        0      121      1      0.2   \n",
              "144   76    0   2       140   197    0        2      116      0      1.1   \n",
              "151   71    0   0       112   149    0        1      125      0      1.6   \n",
              "238   77    1   0       125   304    0        0      162      1      0.0   \n",
              "\n",
              "     slope  ca  thal  target  \n",
              "25     2.0   2     2       1  \n",
              "60     2.0   1     2       1  \n",
              "129    2.0   1     2       1  \n",
              "144    1.0   0     2       1  \n",
              "151    1.0   0     2       1  \n",
              "238    2.0   3     2       0  "
            ],
            "text/html": [
              "\n",
              "  <div id=\"df-d21a5ecf-a1a8-4e1d-8295-e63152d0d521\" class=\"colab-df-container\">\n",
              "    <div>\n",
              "<style scoped>\n",
              "    .dataframe tbody tr th:only-of-type {\n",
              "        vertical-align: middle;\n",
              "    }\n",
              "\n",
              "    .dataframe tbody tr th {\n",
              "        vertical-align: top;\n",
              "    }\n",
              "\n",
              "    .dataframe thead th {\n",
              "        text-align: right;\n",
              "    }\n",
              "</style>\n",
              "<table border=\"1\" class=\"dataframe\">\n",
              "  <thead>\n",
              "    <tr style=\"text-align: right;\">\n",
              "      <th></th>\n",
              "      <th>age</th>\n",
              "      <th>sex</th>\n",
              "      <th>cp</th>\n",
              "      <th>trestbps</th>\n",
              "      <th>chol</th>\n",
              "      <th>fbs</th>\n",
              "      <th>restecg</th>\n",
              "      <th>thalach</th>\n",
              "      <th>exang</th>\n",
              "      <th>oldpeak</th>\n",
              "      <th>slope</th>\n",
              "      <th>ca</th>\n",
              "      <th>thal</th>\n",
              "      <th>target</th>\n",
              "    </tr>\n",
              "  </thead>\n",
              "  <tbody>\n",
              "    <tr>\n",
              "      <th>25</th>\n",
              "      <td>71</td>\n",
              "      <td>0</td>\n",
              "      <td>1</td>\n",
              "      <td>160</td>\n",
              "      <td>302</td>\n",
              "      <td>0</td>\n",
              "      <td>1</td>\n",
              "      <td>162</td>\n",
              "      <td>0</td>\n",
              "      <td>0.4</td>\n",
              "      <td>2.0</td>\n",
              "      <td>2</td>\n",
              "      <td>2</td>\n",
              "      <td>1</td>\n",
              "    </tr>\n",
              "    <tr>\n",
              "      <th>60</th>\n",
              "      <td>71</td>\n",
              "      <td>0</td>\n",
              "      <td>2</td>\n",
              "      <td>110</td>\n",
              "      <td>265</td>\n",
              "      <td>1</td>\n",
              "      <td>0</td>\n",
              "      <td>130</td>\n",
              "      <td>0</td>\n",
              "      <td>0.0</td>\n",
              "      <td>2.0</td>\n",
              "      <td>1</td>\n",
              "      <td>2</td>\n",
              "      <td>1</td>\n",
              "    </tr>\n",
              "    <tr>\n",
              "      <th>129</th>\n",
              "      <td>74</td>\n",
              "      <td>0</td>\n",
              "      <td>1</td>\n",
              "      <td>120</td>\n",
              "      <td>269</td>\n",
              "      <td>0</td>\n",
              "      <td>0</td>\n",
              "      <td>121</td>\n",
              "      <td>1</td>\n",
              "      <td>0.2</td>\n",
              "      <td>2.0</td>\n",
              "      <td>1</td>\n",
              "      <td>2</td>\n",
              "      <td>1</td>\n",
              "    </tr>\n",
              "    <tr>\n",
              "      <th>144</th>\n",
              "      <td>76</td>\n",
              "      <td>0</td>\n",
              "      <td>2</td>\n",
              "      <td>140</td>\n",
              "      <td>197</td>\n",
              "      <td>0</td>\n",
              "      <td>2</td>\n",
              "      <td>116</td>\n",
              "      <td>0</td>\n",
              "      <td>1.1</td>\n",
              "      <td>1.0</td>\n",
              "      <td>0</td>\n",
              "      <td>2</td>\n",
              "      <td>1</td>\n",
              "    </tr>\n",
              "    <tr>\n",
              "      <th>151</th>\n",
              "      <td>71</td>\n",
              "      <td>0</td>\n",
              "      <td>0</td>\n",
              "      <td>112</td>\n",
              "      <td>149</td>\n",
              "      <td>0</td>\n",
              "      <td>1</td>\n",
              "      <td>125</td>\n",
              "      <td>0</td>\n",
              "      <td>1.6</td>\n",
              "      <td>1.0</td>\n",
              "      <td>0</td>\n",
              "      <td>2</td>\n",
              "      <td>1</td>\n",
              "    </tr>\n",
              "    <tr>\n",
              "      <th>238</th>\n",
              "      <td>77</td>\n",
              "      <td>1</td>\n",
              "      <td>0</td>\n",
              "      <td>125</td>\n",
              "      <td>304</td>\n",
              "      <td>0</td>\n",
              "      <td>0</td>\n",
              "      <td>162</td>\n",
              "      <td>1</td>\n",
              "      <td>0.0</td>\n",
              "      <td>2.0</td>\n",
              "      <td>3</td>\n",
              "      <td>2</td>\n",
              "      <td>0</td>\n",
              "    </tr>\n",
              "  </tbody>\n",
              "</table>\n",
              "</div>\n",
              "    <div class=\"colab-df-buttons\">\n",
              "\n",
              "  <div class=\"colab-df-container\">\n",
              "    <button class=\"colab-df-convert\" onclick=\"convertToInteractive('df-d21a5ecf-a1a8-4e1d-8295-e63152d0d521')\"\n",
              "            title=\"Convert this dataframe to an interactive table.\"\n",
              "            style=\"display:none;\">\n",
              "\n",
              "  <svg xmlns=\"http://www.w3.org/2000/svg\" height=\"24px\" viewBox=\"0 -960 960 960\">\n",
              "    <path d=\"M120-120v-720h720v720H120Zm60-500h600v-160H180v160Zm220 220h160v-160H400v160Zm0 220h160v-160H400v160ZM180-400h160v-160H180v160Zm440 0h160v-160H620v160ZM180-180h160v-160H180v160Zm440 0h160v-160H620v160Z\"/>\n",
              "  </svg>\n",
              "    </button>\n",
              "\n",
              "  <style>\n",
              "    .colab-df-container {\n",
              "      display:flex;\n",
              "      gap: 12px;\n",
              "    }\n",
              "\n",
              "    .colab-df-convert {\n",
              "      background-color: #E8F0FE;\n",
              "      border: none;\n",
              "      border-radius: 50%;\n",
              "      cursor: pointer;\n",
              "      display: none;\n",
              "      fill: #1967D2;\n",
              "      height: 32px;\n",
              "      padding: 0 0 0 0;\n",
              "      width: 32px;\n",
              "    }\n",
              "\n",
              "    .colab-df-convert:hover {\n",
              "      background-color: #E2EBFA;\n",
              "      box-shadow: 0px 1px 2px rgba(60, 64, 67, 0.3), 0px 1px 3px 1px rgba(60, 64, 67, 0.15);\n",
              "      fill: #174EA6;\n",
              "    }\n",
              "\n",
              "    .colab-df-buttons div {\n",
              "      margin-bottom: 4px;\n",
              "    }\n",
              "\n",
              "    [theme=dark] .colab-df-convert {\n",
              "      background-color: #3B4455;\n",
              "      fill: #D2E3FC;\n",
              "    }\n",
              "\n",
              "    [theme=dark] .colab-df-convert:hover {\n",
              "      background-color: #434B5C;\n",
              "      box-shadow: 0px 1px 3px 1px rgba(0, 0, 0, 0.15);\n",
              "      filter: drop-shadow(0px 1px 2px rgba(0, 0, 0, 0.3));\n",
              "      fill: #FFFFFF;\n",
              "    }\n",
              "  </style>\n",
              "\n",
              "    <script>\n",
              "      const buttonEl =\n",
              "        document.querySelector('#df-d21a5ecf-a1a8-4e1d-8295-e63152d0d521 button.colab-df-convert');\n",
              "      buttonEl.style.display =\n",
              "        google.colab.kernel.accessAllowed ? 'block' : 'none';\n",
              "\n",
              "      async function convertToInteractive(key) {\n",
              "        const element = document.querySelector('#df-d21a5ecf-a1a8-4e1d-8295-e63152d0d521');\n",
              "        const dataTable =\n",
              "          await google.colab.kernel.invokeFunction('convertToInteractive',\n",
              "                                                    [key], {});\n",
              "        if (!dataTable) return;\n",
              "\n",
              "        const docLinkHtml = 'Like what you see? Visit the ' +\n",
              "          '<a target=\"_blank\" href=https://colab.research.google.com/notebooks/data_table.ipynb>data table notebook</a>'\n",
              "          + ' to learn more about interactive tables.';\n",
              "        element.innerHTML = '';\n",
              "        dataTable['output_type'] = 'display_data';\n",
              "        await google.colab.output.renderOutput(dataTable, element);\n",
              "        const docLink = document.createElement('div');\n",
              "        docLink.innerHTML = docLinkHtml;\n",
              "        element.appendChild(docLink);\n",
              "      }\n",
              "    </script>\n",
              "  </div>\n",
              "\n",
              "\n",
              "<div id=\"df-73ec71e8-6ec5-429b-a09a-19ffe4463d74\">\n",
              "  <button class=\"colab-df-quickchart\" onclick=\"quickchart('df-73ec71e8-6ec5-429b-a09a-19ffe4463d74')\"\n",
              "            title=\"Suggest charts.\"\n",
              "            style=\"display:none;\">\n",
              "\n",
              "<svg xmlns=\"http://www.w3.org/2000/svg\" height=\"24px\"viewBox=\"0 0 24 24\"\n",
              "     width=\"24px\">\n",
              "    <g>\n",
              "        <path d=\"M19 3H5c-1.1 0-2 .9-2 2v14c0 1.1.9 2 2 2h14c1.1 0 2-.9 2-2V5c0-1.1-.9-2-2-2zM9 17H7v-7h2v7zm4 0h-2V7h2v10zm4 0h-2v-4h2v4z\"/>\n",
              "    </g>\n",
              "</svg>\n",
              "  </button>\n",
              "\n",
              "<style>\n",
              "  .colab-df-quickchart {\n",
              "      --bg-color: #E8F0FE;\n",
              "      --fill-color: #1967D2;\n",
              "      --hover-bg-color: #E2EBFA;\n",
              "      --hover-fill-color: #174EA6;\n",
              "      --disabled-fill-color: #AAA;\n",
              "      --disabled-bg-color: #DDD;\n",
              "  }\n",
              "\n",
              "  [theme=dark] .colab-df-quickchart {\n",
              "      --bg-color: #3B4455;\n",
              "      --fill-color: #D2E3FC;\n",
              "      --hover-bg-color: #434B5C;\n",
              "      --hover-fill-color: #FFFFFF;\n",
              "      --disabled-bg-color: #3B4455;\n",
              "      --disabled-fill-color: #666;\n",
              "  }\n",
              "\n",
              "  .colab-df-quickchart {\n",
              "    background-color: var(--bg-color);\n",
              "    border: none;\n",
              "    border-radius: 50%;\n",
              "    cursor: pointer;\n",
              "    display: none;\n",
              "    fill: var(--fill-color);\n",
              "    height: 32px;\n",
              "    padding: 0;\n",
              "    width: 32px;\n",
              "  }\n",
              "\n",
              "  .colab-df-quickchart:hover {\n",
              "    background-color: var(--hover-bg-color);\n",
              "    box-shadow: 0 1px 2px rgba(60, 64, 67, 0.3), 0 1px 3px 1px rgba(60, 64, 67, 0.15);\n",
              "    fill: var(--button-hover-fill-color);\n",
              "  }\n",
              "\n",
              "  .colab-df-quickchart-complete:disabled,\n",
              "  .colab-df-quickchart-complete:disabled:hover {\n",
              "    background-color: var(--disabled-bg-color);\n",
              "    fill: var(--disabled-fill-color);\n",
              "    box-shadow: none;\n",
              "  }\n",
              "\n",
              "  .colab-df-spinner {\n",
              "    border: 2px solid var(--fill-color);\n",
              "    border-color: transparent;\n",
              "    border-bottom-color: var(--fill-color);\n",
              "    animation:\n",
              "      spin 1s steps(1) infinite;\n",
              "  }\n",
              "\n",
              "  @keyframes spin {\n",
              "    0% {\n",
              "      border-color: transparent;\n",
              "      border-bottom-color: var(--fill-color);\n",
              "      border-left-color: var(--fill-color);\n",
              "    }\n",
              "    20% {\n",
              "      border-color: transparent;\n",
              "      border-left-color: var(--fill-color);\n",
              "      border-top-color: var(--fill-color);\n",
              "    }\n",
              "    30% {\n",
              "      border-color: transparent;\n",
              "      border-left-color: var(--fill-color);\n",
              "      border-top-color: var(--fill-color);\n",
              "      border-right-color: var(--fill-color);\n",
              "    }\n",
              "    40% {\n",
              "      border-color: transparent;\n",
              "      border-right-color: var(--fill-color);\n",
              "      border-top-color: var(--fill-color);\n",
              "    }\n",
              "    60% {\n",
              "      border-color: transparent;\n",
              "      border-right-color: var(--fill-color);\n",
              "    }\n",
              "    80% {\n",
              "      border-color: transparent;\n",
              "      border-right-color: var(--fill-color);\n",
              "      border-bottom-color: var(--fill-color);\n",
              "    }\n",
              "    90% {\n",
              "      border-color: transparent;\n",
              "      border-bottom-color: var(--fill-color);\n",
              "    }\n",
              "  }\n",
              "</style>\n",
              "\n",
              "  <script>\n",
              "    async function quickchart(key) {\n",
              "      const quickchartButtonEl =\n",
              "        document.querySelector('#' + key + ' button');\n",
              "      quickchartButtonEl.disabled = true;  // To prevent multiple clicks.\n",
              "      quickchartButtonEl.classList.add('colab-df-spinner');\n",
              "      try {\n",
              "        const charts = await google.colab.kernel.invokeFunction(\n",
              "            'suggestCharts', [key], {});\n",
              "      } catch (error) {\n",
              "        console.error('Error during call to suggestCharts:', error);\n",
              "      }\n",
              "      quickchartButtonEl.classList.remove('colab-df-spinner');\n",
              "      quickchartButtonEl.classList.add('colab-df-quickchart-complete');\n",
              "    }\n",
              "    (() => {\n",
              "      let quickchartButtonEl =\n",
              "        document.querySelector('#df-73ec71e8-6ec5-429b-a09a-19ffe4463d74 button');\n",
              "      quickchartButtonEl.style.display =\n",
              "        google.colab.kernel.accessAllowed ? 'block' : 'none';\n",
              "    })();\n",
              "  </script>\n",
              "</div>\n",
              "    </div>\n",
              "  </div>\n"
            ]
          },
          "metadata": {},
          "execution_count": 13
        }
      ]
    }
  ],
  "metadata": {
    "kernelspec": {
      "display_name": ".venv",
      "language": "python",
      "name": "python3"
    },
    "language_info": {
      "codemirror_mode": {
        "name": "ipython",
        "version": 3
      },
      "file_extension": ".py",
      "mimetype": "text/x-python",
      "name": "python",
      "nbconvert_exporter": "python",
      "pygments_lexer": "ipython3",
      "version": "3.11.4"
    },
    "orig_nbformat": 4,
    "colab": {
      "provenance": [],
      "include_colab_link": true
    }
  },
  "nbformat": 4,
  "nbformat_minor": 0
}