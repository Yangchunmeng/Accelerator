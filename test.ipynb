{
  "cells": [
    {
      "cell_type": "markdown",
      "metadata": {
        "id": "view-in-github",
        "colab_type": "text"
      },
      "source": [
        "<a href=\"https://colab.research.google.com/github/Yangchunmeng/Accelerator/blob/main/test.ipynb\" target=\"_parent\"><img src=\"https://colab.research.google.com/assets/colab-badge.svg\" alt=\"Open In Colab\"/></a>"
      ]
    },
    {
      "cell_type": "code",
      "source": [
        "print(\"Welcome\")"
      ],
      "metadata": {
        "id": "BVgGo1pAzzHA",
        "outputId": "5711a37b-a699-4816-83eb-cd3eddc5d54e",
        "colab": {
          "base_uri": "https://localhost:8080/"
        }
      },
      "execution_count": null,
      "outputs": [
        {
          "output_type": "stream",
          "name": "stdout",
          "text": [
            "Welcome\n"
          ]
        }
      ]
    },
    {
      "cell_type": "markdown",
      "source": [
        "# Program 1"
      ],
      "metadata": {
        "id": "_HALXvWPfOYR"
      }
    },
    {
      "cell_type": "code",
      "execution_count": null,
      "metadata": {
        "id": "r4WjKIXI3US_",
        "outputId": "dc0aba7a-4a3b-4b2b-a6c5-3ec7da1a0892",
        "colab": {
          "base_uri": "https://localhost:8080/"
        }
      },
      "outputs": [
        {
          "output_type": "stream",
          "name": "stdout",
          "text": [
            "Enter km/h:70\n",
            "Speed: 70 KM/H =  43.498 MPH\n"
          ]
        }
      ],
      "source": [
        "# Program 1: Converting KM/H to MPH\n",
        "kmh = int(input(\"Enter km/h:\"))\n",
        "mph = 0.6214*kmh\n",
        "print(\"Speed:\",kmh,\"KM/H = \",mph,\"MPH\")"
      ]
    },
    {
      "cell_type": "markdown",
      "source": [
        "# Basic Syntax"
      ],
      "metadata": {
        "id": "6F-3NS_ffS34"
      }
    },
    {
      "cell_type": "code",
      "source": [
        "print(\"Hello\",\"World\") #default sep as a space\n",
        "print(\"Hello\",\"World\",sep=\"&\")\n",
        "print(\"Hello\",\"World\",sep=\"\")\n",
        "print(\"Hello\",\"World\") #default end as a newline,\\n\n",
        "print(\"Hello\",end=\"\")\n",
        "print(\"World\")\n",
        "print(\"He\\nllo\")\n",
        "print(\"\\t\\tHe\\n\\nllo\")"
      ],
      "metadata": {
        "colab": {
          "base_uri": "https://localhost:8080/"
        },
        "id": "JXns6T_XiS8L",
        "outputId": "da002914-9aaf-444c-9c8b-e1f15d04db33"
      },
      "execution_count": null,
      "outputs": [
        {
          "output_type": "stream",
          "name": "stdout",
          "text": [
            "Hello World\n",
            "Hello&World\n",
            "HelloWorld\n",
            "Hello World\n",
            "HelloWorld\n",
            "He\n",
            "llo\n",
            "\t\tHe\n",
            "\n",
            "llo\n"
          ]
        }
      ]
    },
    {
      "cell_type": "code",
      "source": [
        "help(print)"
      ],
      "metadata": {
        "colab": {
          "base_uri": "https://localhost:8080/"
        },
        "id": "v3wsznS2hy-s",
        "outputId": "4b85055d-976b-4906-b1a8-9901dcaad378"
      },
      "execution_count": null,
      "outputs": [
        {
          "output_type": "stream",
          "name": "stdout",
          "text": [
            "Help on built-in function print in module builtins:\n",
            "\n",
            "print(...)\n",
            "    print(value, ..., sep=' ', end='\\n', file=sys.stdout, flush=False)\n",
            "    \n",
            "    Prints the values to a stream, or to sys.stdout by default.\n",
            "    Optional keyword arguments:\n",
            "    file:  a file-like object (stream); defaults to the current sys.stdout.\n",
            "    sep:   string inserted between values, default a space.\n",
            "    end:   string appended after the last value, default a newline.\n",
            "    flush: whether to forcibly flush the stream.\n",
            "\n"
          ]
        }
      ]
    },
    {
      "cell_type": "code",
      "source": [
        "'''\n",
        "This part is a comment.\n",
        "'''\n",
        "\n",
        "\"\"\"\n",
        "This part is also a comment.\n",
        "\"\"\"\n",
        "print(\"test\")\n",
        "print('abc\"cde\"fgh')"
      ],
      "metadata": {
        "colab": {
          "base_uri": "https://localhost:8080/"
        },
        "id": "aJ0Cutnrkg_L",
        "outputId": "af904591-1a66-4f03-9fc6-8ac965d804b8"
      },
      "execution_count": null,
      "outputs": [
        {
          "output_type": "stream",
          "name": "stdout",
          "text": [
            "test\n",
            "abc\"cde\"fgh\n"
          ]
        }
      ]
    },
    {
      "cell_type": "code",
      "execution_count": null,
      "metadata": {
        "id": "PCWeTrl43UTE",
        "outputId": "b37135b2-6799-480e-8439-008dc653041c",
        "colab": {
          "base_uri": "https://localhost:8080/"
        }
      },
      "outputs": [
        {
          "output_type": "stream",
          "name": "stdout",
          "text": [
            "num 1 + num 2 =  27\n"
          ]
        }
      ],
      "source": [
        "# Add two numbers\n",
        "num1 = 15\n",
        "num2 = 12\n",
        "print(\"num 1 + num 2 = \",num1+num2)"
      ]
    },
    {
      "cell_type": "code",
      "execution_count": null,
      "metadata": {
        "id": "J30eLx8_3UTE",
        "outputId": "e95e63b7-4de8-4073-e87f-b9a96fdab4db",
        "colab": {
          "base_uri": "https://localhost:8080/"
        }
      },
      "outputs": [
        {
          "output_type": "stream",
          "name": "stdout",
          "text": [
            "The total is: $ 27.5\n"
          ]
        }
      ],
      "source": [
        "price_water = 5\n",
        "price_burger = 22.5\n",
        "total = price_water + price_burger\n",
        "print(\"The total is: $\", total)"
      ]
    },
    {
      "cell_type": "code",
      "source": [
        "# dictionary example\n",
        "\n",
        "student_dict = {\n",
        "  \"name\": \"J Kwok\",\n",
        "  \"class\": \"F5\",\n",
        "  \"year\": 2019,\n",
        "  \"Grade\": 'B+'\n",
        "}\n",
        "\n",
        "for key in student_dict:\n",
        "  print(key)"
      ],
      "metadata": {
        "colab": {
          "base_uri": "https://localhost:8080/"
        },
        "id": "hlppjy9MFDMR",
        "outputId": "064b1c91-8f92-4334-ae53-ceb3de36093d"
      },
      "execution_count": 1,
      "outputs": [
        {
          "output_type": "stream",
          "name": "stdout",
          "text": [
            "name\n",
            "class\n",
            "year\n",
            "Grade\n"
          ]
        }
      ]
    },
    {
      "cell_type": "code",
      "source": [
        "student_dict = {\n",
        "  \"name\": \"J Kwok\",\n",
        "  \"name1\": \"J Kwok\",\n",
        "  \"class\": \"F5\",\n",
        "  \"year\": 2019,\n",
        "  \"Grade\": 'B+'\n",
        "}\n",
        "\n",
        "for key in student_dict:\n",
        "    print(f'key = {key}, val = {student_dict[key]}')"
      ],
      "metadata": {
        "colab": {
          "base_uri": "https://localhost:8080/"
        },
        "id": "VIsoyocDFXZv",
        "outputId": "3fc87b43-0238-4d48-9287-0c1a1c901842"
      },
      "execution_count": 6,
      "outputs": [
        {
          "output_type": "stream",
          "name": "stdout",
          "text": [
            "key = name, val = J Kwok\n",
            "key = name1, val = J Kwok\n",
            "key = class, val = F5\n",
            "key = year, val = 2019\n",
            "key = Grade, val = B+\n"
          ]
        }
      ]
    },
    {
      "cell_type": "markdown",
      "source": [
        "#Functions"
      ],
      "metadata": {
        "id": "3RHfu0WIQ78C"
      }
    },
    {
      "cell_type": "code",
      "source": [
        "#Using Argument Names\n",
        "def me(name=\"James\",age=20):\n",
        "  print(f\"My name is {name} and I am {age} years old.\")\n",
        "\n",
        "#main program\n",
        "me()\n",
        "me(name='John')\n",
        "me(age=15)\n",
        "me(name='Jack',age=10)\n",
        "me(age=20,name='John')\n",
        "me('Tom',30)"
      ],
      "metadata": {
        "colab": {
          "base_uri": "https://localhost:8080/"
        },
        "id": "FLGEJBhHRAK3",
        "outputId": "eb718999-95df-41a3-8689-69af3396ba68"
      },
      "execution_count": null,
      "outputs": [
        {
          "output_type": "stream",
          "name": "stdout",
          "text": [
            "My name is James and I am 20 years old.\n",
            "My name is John and I am 20 years old.\n",
            "My name is James and I am 15 years old.\n",
            "My name is Jack and I am 10 years old.\n",
            "My name is John and I am 20 years old.\n",
            "My name is Tom and I am 30 years old.\n"
          ]
        }
      ]
    },
    {
      "cell_type": "markdown",
      "source": [
        "# Function with One Return Value"
      ],
      "metadata": {
        "id": "G2-nHSKoUCgV"
      }
    },
    {
      "cell_type": "code",
      "source": [
        "def func(x,c):\n",
        "  y=5*x+c\n",
        "  return y, x, c\n",
        "\n",
        "#main program\n",
        "a, b, c = func(3,2)\n",
        "print(f\"{a}=5*{b}+{c}\")"
      ],
      "metadata": {
        "id": "UAOfwOPJUGFO",
        "outputId": "80c12af0-3e53-41e4-aae7-055e0c1eb09c",
        "colab": {
          "base_uri": "https://localhost:8080/"
        }
      },
      "execution_count": null,
      "outputs": [
        {
          "output_type": "stream",
          "name": "stdout",
          "text": [
            "17=5*3+2\n"
          ]
        }
      ]
    },
    {
      "cell_type": "code",
      "source": [
        "Apple_list = ['haha','oaoa',1,2,3]\n",
        "index_val = 0\n",
        "for extracted_item in Apple_list:\n",
        "  if index_val == 1:\n",
        "    print (f\"the item is {extracted_item} in {index_val}\")\n",
        "  index_val +=1"
      ],
      "metadata": {
        "id": "nLpKWce7oKSO",
        "outputId": "0530b56b-f0fb-4c80-d0b3-5897a5ca4f19",
        "colab": {
          "base_uri": "https://localhost:8080/"
        }
      },
      "execution_count": null,
      "outputs": [
        {
          "output_type": "stream",
          "name": "stdout",
          "text": [
            "the item is oaoa in 1\n"
          ]
        }
      ]
    }
  ],
  "metadata": {
    "kernelspec": {
      "display_name": ".venv",
      "language": "python",
      "name": "python3"
    },
    "language_info": {
      "codemirror_mode": {
        "name": "ipython",
        "version": 3
      },
      "file_extension": ".py",
      "mimetype": "text/x-python",
      "name": "python",
      "nbconvert_exporter": "python",
      "pygments_lexer": "ipython3",
      "version": "3.11.4"
    },
    "orig_nbformat": 4,
    "colab": {
      "provenance": [],
      "include_colab_link": true
    }
  },
  "nbformat": 4,
  "nbformat_minor": 0
}