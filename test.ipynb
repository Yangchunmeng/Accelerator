{
 "cells": [
  {
   "cell_type": "code",
   "execution_count": 7,
   "metadata": {},
   "outputs": [
    {
     "name": "stdout",
     "output_type": "stream",
     "text": [
      "Speed: 70 KM/H =  43.498 MPH\n"
     ]
    }
   ],
   "source": [
    "# Program 1: Converting KM/H to MPH\n",
    "kmh = int(input(\"Enter km/h:\"))\n",
    "mph = 0.6214*kmh\n",
    "print(\"Speed:\",kmh,\"KM/H = \",mph,\"MPH\")"
   ]
  },
  {
   "cell_type": "code",
   "execution_count": 8,
   "metadata": {},
   "outputs": [
    {
     "name": "stdout",
     "output_type": "stream",
     "text": [
      "num 1 + num 2 =  27\n"
     ]
    }
   ],
   "source": [
    "# Add two numbers\n",
    "num1 = 15\n",
    "num2 = 12\n",
    "print(\"num 1 + num 2 = \",num1+num2)"
   ]
  },
  {
   "cell_type": "code",
   "execution_count": 9,
   "metadata": {},
   "outputs": [
    {
     "name": "stdout",
     "output_type": "stream",
     "text": [
      "The total is: $ 27.5\n"
     ]
    }
   ],
   "source": [
    "price_water = 5\n",
    "price_burger = 22.5\n",
    "total = price_water + price_burger\n",
    "print(\"The total is: $\", total)"
   ]
  }
 ],
 "metadata": {
  "kernelspec": {
   "display_name": ".venv",
   "language": "python",
   "name": "python3"
  },
  "language_info": {
   "codemirror_mode": {
    "name": "ipython",
    "version": 3
   },
   "file_extension": ".py",
   "mimetype": "text/x-python",
   "name": "python",
   "nbconvert_exporter": "python",
   "pygments_lexer": "ipython3",
   "version": "3.11.4"
  },
  "orig_nbformat": 4
 },
 "nbformat": 4,
 "nbformat_minor": 2
}
